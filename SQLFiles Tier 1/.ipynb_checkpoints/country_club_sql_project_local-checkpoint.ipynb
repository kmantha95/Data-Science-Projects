{
 "cells": [
  {
   "cell_type": "code",
   "execution_count": 10,
   "metadata": {},
   "outputs": [
    {
     "name": "stdout",
     "output_type": "stream",
     "text": [
      "2.6.0\n",
      "2. Query all tasks\n",
      "('Table Tennis', 180)\n",
      "('Snooker Table', 240)\n",
      "('Pool Table', 270)\n"
     ]
    }
   ],
   "source": [
    "import sqlite3\n",
    "from sqlite3 import Error\n",
    "\n",
    " \n",
    "def create_connection(db_file):\n",
    "    \"\"\" create a database connection to the SQLite database\n",
    "        specified by the db_file\n",
    "    :param db_file: database file\n",
    "    :return: Connection object or None\n",
    "    \"\"\"\n",
    "    conn = None\n",
    "    try:\n",
    "        conn = sqlite3.connect(db_file)\n",
    "        print(sqlite3.version)\n",
    "    except Error as e:\n",
    "        print(e)\n",
    " \n",
    "    return conn\n",
    "\n",
    " \n",
    "def select_all_tasks(conn):\n",
    "    \"\"\"\n",
    "    Query all rows in the tasks table\n",
    "    :param conn: the Connection object\n",
    "    :return:\n",
    "    \"\"\"\n",
    "    cur = conn.cursor()\n",
    "    \n",
    "    query1 = \"\"\"SELECT DISTINCT(f.name) as FacilityName, sum(CASE \n",
    "            WHEN b.memid >0 THEN f.membercost * b.slots\n",
    "            WHEN b.memid =0 THEN f.guestcost * b.slots\n",
    "            END) AS TotalRevenue\n",
    "            FROM `Facilities` AS f\n",
    "            LEFT JOIN Bookings AS b ON f.facid = b.facid\n",
    "GROUP BY f.name\n",
    "HAVING TotalRevenue < 1000\n",
    "ORDER BY TotalRevenue\"\"\" \n",
    "\n",
    "    cur.execute(query1)\n",
    " \n",
    "    rows = cur.fetchall()\n",
    " \n",
    "    for row in rows:\n",
    "        print(row)\n",
    "\n",
    "\n",
    "def main():\n",
    "    database = \"sqlite_db_pythonsqlite.db\"\n",
    " \n",
    "    # create a database connection\n",
    "    conn = create_connection(database)\n",
    "    with conn: \n",
    "        print(\"2. Query all tasks\")\n",
    "        select_all_tasks(conn)\n",
    " \n",
    " \n",
    "if __name__ == '__main__':\n",
    "    main()"
   ]
  },
  {
   "cell_type": "code",
   "execution_count": null,
   "metadata": {},
   "outputs": [],
   "source": [
    "#Q10 Query\n",
    "\"\"\"SELECT DISTINCT(f.name) as FacilityName, sum(CASE \n",
    "            WHEN b.memid >0 THEN f.membercost * b.slots\n",
    "            WHEN b.memid =0 THEN f.guestcost * b.slots\n",
    "            END) AS TotalRevenue\n",
    "            FROM `Facilities` AS f\n",
    "            LEFT JOIN Bookings AS b ON f.facid = b.facid\n",
    "GROUP BY f.name\n",
    "HAVING TotalRevenue < 1000\n",
    "ORDER BY TotalRevenue\"\"\""
   ]
  },
  {
   "cell_type": "code",
   "execution_count": null,
   "metadata": {},
   "outputs": [],
   "source": [
    "#Q11 Query\n",
    "\"\"\"SELECT concat_ws(' ', m1.surname, m1.firstname) AS MemberName, \n",
    "concat_ws(' ', m2.surname, m2.firstname) AS Recommended_By from Members AS m1 \n",
    "LEFT JOIN Members AS m2 ON m1.recommendedby = m2.memid WHERE m1.recommendedby >=1 \n",
    "ORDER BY m1.surname, m1.firstname\"\"\""
   ]
  },
  {
   "cell_type": "code",
   "execution_count": null,
   "metadata": {},
   "outputs": [],
   "source": [
    "#Q12 Query\n",
    "\"\"\"SELECT f.name AS FacilityName, concat_ws(' ',m.surname, m.firstname) AS Member,\n",
    "sec_to_time(sum(b.slots)*1800) AS TimeUsed FROM Bookings AS b \n",
    "LEFT JOIN Facilities AS f ON b.facid = f.facid \n",
    "LEFT JOIN Members AS m ON b.memid = m.memid \n",
    "WHERE b.memid >= 1 GROUP BY b.memid, b.facid \n",
    "ORDER BY m.surname\"\"\""
   ]
  },
  {
   "cell_type": "code",
   "execution_count": null,
   "metadata": {},
   "outputs": [],
   "source": [
    "#Q13 Query\n",
    "\"\"\"SELECT f.name AS FacilityName, \n",
    "concat_ws(' ', m.surname,m.firstname) AS MemberName,\n",
    "SUBSTR(b.starttime,6,2) AS Month, \n",
    "sec_to_time(sum(slots)*1800) AS TimeUsed \n",
    "FROM Bookings AS b \n",
    "LEFT JOIN Facilities AS f ON b.facid = f.facid\n",
    "LEFT JOIN Members AS m ON b.memid = m.memid\n",
    "WHERE b.memid >=1\n",
    "GROUP BY f.name, MemberName, b.starttime,b.slots\n",
    "ORDER BY Month\"\"\""
   ]
  }
 ],
 "metadata": {
  "kernelspec": {
   "display_name": "Python 3",
   "language": "python",
   "name": "python3"
  },
  "language_info": {
   "codemirror_mode": {
    "name": "ipython",
    "version": 3
   },
   "file_extension": ".py",
   "mimetype": "text/x-python",
   "name": "python",
   "nbconvert_exporter": "python",
   "pygments_lexer": "ipython3",
   "version": "3.8.3"
  }
 },
 "nbformat": 4,
 "nbformat_minor": 4
}
