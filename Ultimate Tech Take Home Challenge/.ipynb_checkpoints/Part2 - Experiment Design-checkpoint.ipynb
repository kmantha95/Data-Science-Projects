{
 "cells": [
  {
   "cell_type": "markdown",
   "metadata": {},
   "source": [
    "## Experiment and Metrics Design"
   ]
  },
  {
   "cell_type": "markdown",
   "metadata": {},
   "source": [
    "### Question"
   ]
  },
  {
   "cell_type": "markdown",
   "metadata": {},
   "source": [
    "The neighboring cities of Gotham and Metropolis have complementary circadian rhythms: on weekdays, Ultimate Gotham is most active at night, and Ultimate Metropolis is most active during the day. On weekends, there is reasonable activity in both cities. However, a toll bridge, with a two-way toll, between the two cities causes driver partners to tend to be exclusive to each city. The Ultimate managers of city operations for the two cities have proposed an experiment to encourage driver partners to be available in both cities, by reimbursing all toll costs.\n",
    "\n",
    "What would you choose as the key measure of success of this experiment in encouraging driver partners to serve both cities, and why would you choose this metric?\n",
    "\n",
    "Describe a practical experiment you would design to compare the effectiveness of the proposed change in relation to the key measure of success. Please provide details on:\n",
    "\n",
    "a. How you will implement the experiment\n",
    "\n",
    "b. What statistical test(s) you will conduct to verify the significance of the observation\n",
    "\n",
    "c. How you would interpret the results and provide recommendations to the city operations team along with any caveats."
   ]
  },
  {
   "cell_type": "markdown",
   "metadata": {},
   "source": [
    "### Answer"
   ]
  },
  {
   "cell_type": "markdown",
   "metadata": {},
   "source": [
    "The purpose of the analysis is to encourage partners to be avaiable in both cities. Nothing is stated about an issue with revenue or makeup costs. Thus, the most notable metric for success in this experiment would likely be the increase in combined activity between both cities.\n",
    "\n",
    "The most effective test would be an A/B Test which would show the effectiveness of the experiment (reimbursing tolls vs not reimbursing tolls).\n",
    "\n",
    "To implement the experiment, we will first split the driver group evenly and randomly. The first group of drivers will not be made aware of reimbursements, and will be encouraged to go about their daily routine, whereas the other set would have their tolls refunded to see the difference.\n",
    "\n",
    "To achieve statistical significance, we will perform hypothesis testing, with the null hypothesis being no significant change in revenue or driver metrics even with implementation of toll refunds. We would let the experiment run for at least 1 to 2 full cycles, at least for a month. The experiment would be run during an average month (ie. not a holiday) to eliminate unnecessary bias.\n",
    "\n",
    "If the results are statistically significant, we could look deeper into the data and find the most notable features that also may have affected the change in driver engagement and cross-city travel. If the results are not significant, we might conclude that reimbursing tolls does not affect cross-city travel and increased revenue."
   ]
  },
  {
   "cell_type": "code",
   "execution_count": null,
   "metadata": {},
   "outputs": [],
   "source": []
  }
 ],
 "metadata": {
  "kernelspec": {
   "display_name": "Python 3",
   "language": "python",
   "name": "python3"
  },
  "language_info": {
   "codemirror_mode": {
    "name": "ipython",
    "version": 3
   },
   "file_extension": ".py",
   "mimetype": "text/x-python",
   "name": "python",
   "nbconvert_exporter": "python",
   "pygments_lexer": "ipython3",
   "version": "3.8.3"
  }
 },
 "nbformat": 4,
 "nbformat_minor": 4
}
